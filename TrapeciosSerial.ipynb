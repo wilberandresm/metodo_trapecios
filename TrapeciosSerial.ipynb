{
 "cells": [
  {
   "cell_type": "markdown",
   "metadata": {},
   "source": [
    "# Método de los trapecios"
   ]
  },
  {
   "cell_type": "code",
   "execution_count": 1,
   "metadata": {},
   "outputs": [],
   "source": [
    "import numpy as np\n",
    "import matplotlib.pyplot as plt"
   ]
  },
  {
   "cell_type": "code",
   "execution_count": 2,
   "metadata": {},
   "outputs": [
    {
     "name": "stdout",
     "output_type": "stream",
     "text": [
      "2498.5659182377367\n",
      "tramos  1 area  4503.155538495563\n",
      "tramos  2 area  3003.4542832320917\n",
      "tramos  3 area  2722.3526220656267\n",
      "tramos  4 area  2624.3020121486084\n",
      "tramos  5 area  2578.9504870414194\n",
      "tramos  6 area  2554.3220824169025\n",
      "tramos  7 area  2539.474106051656\n",
      "tramos  8 area  2529.838031040773\n",
      "tramos  9 area  2523.2319368651483\n",
      "tramos  10 area  2518.5068160025817\n",
      "tramos  11 area  2515.010855873781\n",
      "tramos  12 area  2512.3519449758023\n",
      "tramos  13 area  2510.2827187942603\n",
      "tramos  14 area  2508.6408707964542\n",
      "tramos  15 area  2507.3163242127807\n",
      "tramos  16 area  2506.232288231283\n",
      "tramos  17 area  2505.333871403886\n",
      "tramos  18 area  2504.5809933117603\n",
      "tramos  19 area  2503.9438354185913\n",
      "tramos  20 area  2503.399842373908\n",
      "tramos  21 area  2502.9316979864193\n",
      "tramos  22 area  2502.525929931881\n",
      "tramos  23 area  2502.1719295022904\n",
      "tramos  24 area  2501.8612510713374\n",
      "tramos  25 area  2501.5871036397534\n",
      "tramos  26 area  2501.3439765456665\n",
      "tramos  27 area  2501.1273603545633\n",
      "tramos  28 area  2500.9335362398333\n",
      "tramos  29 area  2500.7594152983584\n",
      "tramos  30 area  2500.6024147152807\n",
      "tramos  31 area  2500.4603614274374\n",
      "tramos  32 area  2500.331416521787\n",
      "tramos  33 area  2500.214015421006\n",
      "tramos  34 area  2500.106820197933\n",
      "tramos  35 area  2500.008681287373\n",
      "tramos  36 area  2499.9186065369468\n",
      "tramos  37 area  2499.8357360320833\n",
      "tramos  38 area  2499.75932149614\n",
      "tramos  39 area  2499.6887093394375\n",
      "tramos  40 area  2499.623326636786\n",
      "tramos  41 area  2499.5626694693615\n",
      "tramos  42 area  2499.506293185867\n",
      "tramos  43 area  2499.453804230403\n",
      "tramos  44 area  2499.4048532552697\n",
      "tramos  45 area  2499.359129293096\n",
      "tramos  46 area  2499.3163548058556\n",
      "tramos  47 area  2499.276281463394\n",
      "tramos  48 area  2499.238686531024\n",
      "tramos  49 area  2499.203369767788\n",
      "tramos  50 area  2499.170150754564\n",
      "tramos  51 area  2499.1388665852974\n",
      "tramos  52 area  2499.1093698658806\n",
      "tramos  53 area  2499.081526974908\n",
      "tramos  54 area  2499.055216547711\n",
      "tramos  55 area  2499.0303281515694\n",
      "tramos  56 area  2499.00676112498\n",
      "tramos  57 area  2498.9844235583046\n",
      "tramos  58 area  2498.963231396231\n",
      "tramos  59 area  2498.9431076459155\n",
      "tramos  60 area  2498.9239816766853\n",
      "tramos  61 area  2498.90578859938\n",
      "tramos  62 area  2498.888468715366\n",
      "tramos  63 area  2498.8719670260434\n",
      "tramos  64 area  2498.856232795769\n",
      "tramos  65 area  2498.8412191614084\n",
      "tramos  66 area  2498.8268827829347\n",
      "tramos  67 area  2498.8131835303534\n",
      "tramos  68 area  2498.800084202576\n",
      "tramos  69 area  2498.787550274499\n",
      "tramos  70 area  2498.7755496694444\n",
      "tramos  71 area  2498.764052553609\n",
      "tramos  72 area  2498.753031150442\n",
      "tramos  73 area  2498.7424595728494\n",
      "tramos  74 area  2498.73231367093\n",
      "tramos  75 area  2498.7225708939786\n",
      "tramos  76 area  2498.7132101650623\n",
      "tramos  77 area  2498.704211766973\n",
      "tramos  78 area  2498.6955572381958\n",
      "tramos  79 area  2498.687229278316\n",
      "tramos  80 area  2498.6792116613215\n",
      "tramos  81 area  2498.671489156616\n",
      "tramos  82 area  2498.6640474566193\n",
      "tramos  83 area  2498.656873110391\n",
      "tramos  84 area  2498.6499534628892\n",
      "tramos  85 area  2498.643276599041\n",
      "tramos  86 area  2498.6368312925083\n",
      "tramos  87 area  2498.630606958365\n",
      "tramos  88 area  2498.6245936096743\n",
      "tramos  89 area  2498.6187818174235\n",
      "tramos  90 area  2498.613162673516\n",
      "tramos  91 area  2498.607727756559\n",
      "tramos  92 area  2498.6024691003804\n",
      "tramos  93 area  2498.5973791647616\n",
      "tramos  94 area  2498.592450808437\n",
      "tramos  95 area  2498.587677263949\n",
      "tramos  96 area  2498.583052114574\n",
      "tramos  97 area  2498.5785692725317\n",
      "tramos  98 area  2498.5742229591397\n",
      "tramos  99 area  2498.570007685963\n"
     ]
    }
   ],
   "source": [
    "functionx = lambda x : np.cos(x) + x**3\n",
    "\n",
    "def integral(a, b, tramos):\n",
    "    h = (b - a) / tramos\n",
    "    x = a\n",
    "    suma = functionx(x)\n",
    "    for i in range(0, tramos - 1, 1):\n",
    "        x = x + h\n",
    "        suma = suma + 2 * functionx(x)\n",
    "    suma = suma + functionx(b)\n",
    "    area = h * (suma / 2)\n",
    "    return area\n",
    "\n",
    "a = 1\n",
    "b = 10\n",
    "tramos = 100\n",
    "\n",
    "print(integral(a, b, tramos))\n",
    "\n",
    "for i in range(1, tramos):\n",
    "    print(\"tramos \", i, \"area \", integral(a, b, i))\n",
    "\n"
   ]
  },
  {
   "cell_type": "markdown",
   "metadata": {},
   "source": [
    "# Gráfica"
   ]
  },
  {
   "cell_type": "code",
   "execution_count": 3,
   "metadata": {},
   "outputs": [
    {
     "data": {
      "image/png": "[encoded data removed]",
      "text/plain": [
       "<Figure size 432x288 with 1 Axes>"
      ]
     },
     "metadata": {
      "needs_background": "light"
     },
     "output_type": "display_data"
    },
    {
     "name": "stdout",
     "output_type": "stream",
     "text": [
      "tramos:  100\n"
     ]
    },
    {
     "ename": "NameError",
     "evalue": "name 'area' is not defined",
     "output_type": "error",
     "traceback": [
      "\u001b[0;31m---------------------------------------------------------------------------\u001b[0m",
      "\u001b[0;31mNameError\u001b[0m                                 Traceback (most recent call last)",
      "\u001b[0;32m<ipython-input-3-dc3de42317bc>\u001b[0m in \u001b[0;36m<module>\u001b[0;34m\u001b[0m\n\u001b[1;32m     19\u001b[0m \u001b[0;34m\u001b[0m\u001b[0m\n\u001b[1;32m     20\u001b[0m \u001b[0mprint\u001b[0m\u001b[0;34m(\u001b[0m\u001b[0;34m'tramos: '\u001b[0m\u001b[0;34m,\u001b[0m \u001b[0mtramos\u001b[0m\u001b[0;34m)\u001b[0m\u001b[0;34m\u001b[0m\u001b[0;34m\u001b[0m\u001b[0m\n\u001b[0;32m---> 21\u001b[0;31m \u001b[0mprint\u001b[0m\u001b[0;34m(\u001b[0m\u001b[0;34m'Integral: '\u001b[0m\u001b[0;34m,\u001b[0m \u001b[0marea\u001b[0m\u001b[0;34m)\u001b[0m\u001b[0;34m\u001b[0m\u001b[0;34m\u001b[0m\u001b[0m\n\u001b[0m",
      "\u001b[0;31mNameError\u001b[0m: name 'area' is not defined"
     ]
    }
   ],
   "source": [
    "muestras = tramos + 1\n",
    "xi = np.linspace(a, b, muestras)\n",
    "fi = functionx(xi)\n",
    "\n",
    "# Gráfica\n",
    "# Referencia función contínua\n",
    "xig = np.linspace(a, b, muestras * 10)\n",
    "fig = functionx(xig)\n",
    "plt.plot(xig, fig)\n",
    "# Trapecios\n",
    "plt.fill_between(xi, 0, fi, color = 'y')\n",
    "plt.title('Integral: Regla de Trapecios')\n",
    "for i in range(0, muestras, 1):\n",
    "    plt.axvline(xi[i], color = 'w')\n",
    "plt.plot(xi, fi, 'o') # puntos muestra\n",
    "plt.xlabel('x')\n",
    "plt.ylabel('f(x)')\n",
    "plt.show()\n",
    "\n",
    "print('tramos: ', tramos)\n",
    "print('Integral: ', area)"
   ]
  },
  {
   "cell_type": "markdown",
   "metadata": {},
   "source": [
    "#### Versión serial inspirada en http://blog.espol.edu.ec/matg1013/7-1-regla-del-trapecio/"
   ]
  },
  {
   "cell_type": "code",
   "execution_count": null,
   "metadata": {},
   "outputs": [],
   "source": []
  }
 ],
 "metadata": {
  "kernelspec": {
   "display_name": "Python 3",
   "language": "python",
   "name": "python3"
  },
  "language_info": {
   "codemirror_mode": {
    "name": "ipython",
    "version": 3
   },
   "file_extension": ".py",
   "mimetype": "text/x-python",
   "name": "python",
   "nbconvert_exporter": "python",
   "pygments_lexer": "ipython3",
   "version": "3.7.3"
  }
 },
 "nbformat": 4,
 "nbformat_minor": 4
}
